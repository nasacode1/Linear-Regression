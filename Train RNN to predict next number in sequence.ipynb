{
  "nbformat": 4,
  "nbformat_minor": 0,
  "metadata": {
    "colab": {
      "provenance": []
    },
    "kernelspec": {
      "name": "python3",
      "display_name": "Python 3"
    },
    "language_info": {
      "name": "python"
    }
  },
  "cells": [
    {
      "cell_type": "code",
      "execution_count": 21,
      "metadata": {
        "id": "r2n8Gl0ogZkD"
      },
      "outputs": [],
      "source": [
        "import torch\n",
        "import torch.nn as nn\n",
        "\n",
        "x = torch.tensor([[10, 11, 12, 13, 14]], dtype=torch.float32).unsqueeze(-1)\n",
        "y = torch.tensor([[15, 16, 17, 18, 19]], dtype=torch.float32).unsqueeze(-1)\n",
        "\n"
      ]
    },
    {
      "cell_type": "code",
      "source": [
        "rnn = nn.RNN(input_size=1, hidden_size=5, batch_first=True)\n",
        "linear = nn.Linear(in_features=5, out_features=1)\n",
        "out, h = rnn(x)\n",
        "print(out)\n",
        "print(h)\n",
        "y_pred = linear(out)\n",
        "print(y_pred.shape)"
      ],
      "metadata": {
        "colab": {
          "base_uri": "https://localhost:8080/"
        },
        "id": "ym-pXbengscL",
        "outputId": "1587d6b1-ea06-48ad-9300-66e3af4e05ab"
      },
      "execution_count": 22,
      "outputs": [
        {
          "output_type": "stream",
          "name": "stdout",
          "text": [
            "tensor([[[ 0.7522, -0.9397,  0.9998,  0.9977, -0.9926],\n",
            "         [ 0.7660, -0.9517,  1.0000,  0.9986, -0.9905],\n",
            "         [ 0.8200, -0.9656,  1.0000,  0.9992, -0.9943],\n",
            "         [ 0.8645, -0.9755,  1.0000,  0.9996, -0.9965],\n",
            "         [ 0.8983, -0.9826,  1.0000,  0.9998, -0.9979]]],\n",
            "       grad_fn=<TransposeBackward1>)\n",
            "tensor([[[ 0.8983, -0.9826,  1.0000,  0.9998, -0.9979]]],\n",
            "       grad_fn=<StackBackward0>)\n",
            "torch.Size([1, 5, 1])\n"
          ]
        }
      ]
    },
    {
      "cell_type": "code",
      "source": [
        "criterion = nn.MSELoss()\n",
        "optimizer = torch.optim.Adam(list(rnn.parameters()) + list(linear.parameters()), lr=0.001)\n",
        "\n",
        "for epoch in range(1000):\n",
        "    optimizer.zero_grad()\n",
        "    out, h = rnn(x)\n",
        "    y_pred = linear(out)\n",
        "    loss = criterion(y_pred, y)\n",
        "    loss.backward()\n",
        "    optimizer.step()\n",
        "\n",
        "out, h= rnn(x)\n",
        "y_pred = linear(out)\n",
        "print(y_pred)"
      ],
      "metadata": {
        "colab": {
          "base_uri": "https://localhost:8080/"
        },
        "id": "zBueQ9yqg0rB",
        "outputId": "1f6e1808-5eb9-428c-ebda-a99ff2f66e83"
      },
      "execution_count": 24,
      "outputs": [
        {
          "output_type": "stream",
          "name": "stdout",
          "text": [
            "tensor([[[15.0014],\n",
            "         [16.0040],\n",
            "         [17.0023],\n",
            "         [18.0103],\n",
            "         [18.9943]]], grad_fn=<ViewBackward0>)\n"
          ]
        }
      ]
    }
  ]
}